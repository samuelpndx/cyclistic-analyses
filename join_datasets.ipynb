{
 "cells": [
  {
   "cell_type": "markdown",
   "id": "902ccad3-8681-470e-bb09-1f1685bd05ff",
   "metadata": {},
   "source": [
    "# Import the necessary libraries"
   ]
  },
  {
   "cell_type": "code",
   "execution_count": null,
   "id": "9cb0e625-8224-46c4-a011-cb0469f9183a",
   "metadata": {},
   "outputs": [],
   "source": [
    "import pandas as pd\n",
    "import os\n",
    "import glob"
   ]
  },
  {
   "cell_type": "markdown",
   "id": "ac5ed41d-6cbc-4d5d-86ee-807095653370",
   "metadata": {},
   "source": [
    "# Dealing with files"
   ]
  },
  {
   "cell_type": "code",
   "execution_count": null,
   "id": "5b02be20-429e-4369-bcbd-fd962a35b44d",
   "metadata": {},
   "outputs": [],
   "source": [
    "# Set the folder path\n",
    "folder_path = './data/csv/'\n",
    "folder_path"
   ]
  },
  {
   "cell_type": "code",
   "execution_count": null,
   "id": "53f9d346-4432-4547-8149-d9e872c26234",
   "metadata": {},
   "outputs": [],
   "source": [
    "# Get a list of all CSV files in the specified folder\n",
    "csv_files = sorted(glob.glob(os.path.join(folder_path, '*.csv')))\n",
    "csv_files"
   ]
  },
  {
   "cell_type": "code",
   "execution_count": null,
   "id": "40d6ebbd-013d-4aa8-89be-dbbdda229a01",
   "metadata": {},
   "outputs": [],
   "source": [
    "# Create an empty list to store the DataFrames and iterate over the CSV files\n",
    "df_list = []\n",
    "\n",
    "# Iterate over the CSV files\n",
    "for file in csv_files:\n",
    "    df = pd.read_csv(file)\n",
    "    df_list.append(df)"
   ]
  },
  {
   "cell_type": "code",
   "execution_count": null,
   "id": "aabe098b-4f1c-448c-a07a-9f05c5164a4d",
   "metadata": {},
   "outputs": [],
   "source": [
    "# Concatenate all the DataFrames in the list into a single DataFrame\n",
    "df = pd.concat(df_list, ignore_index=True)"
   ]
  },
  {
   "cell_type": "markdown",
   "id": "329c4b3a-d666-4d98-a6c8-303e63fa7287",
   "metadata": {},
   "source": [
    "# Drop duplicate rows"
   ]
  },
  {
   "cell_type": "code",
   "execution_count": null,
   "id": "92c52c13-2432-4345-986d-16b68303e860",
   "metadata": {
    "editable": true,
    "slideshow": {
     "slide_type": ""
    },
    "tags": []
   },
   "outputs": [],
   "source": [
    "# Count the number of duplicate ride IDs\n",
    "df.duplicated(['ride_id']).sum()"
   ]
  },
  {
   "cell_type": "code",
   "execution_count": null,
   "id": "41161b68-bedd-42e7-b15c-90c061e42a1a",
   "metadata": {},
   "outputs": [],
   "source": [
    "# Drop duplicate rows based on the 'ride_id' column, keeping the first occurrence\n",
    "df.drop_duplicates(subset='ride_id', keep='first', inplace=True)"
   ]
  },
  {
   "cell_type": "code",
   "execution_count": null,
   "id": "872fc1f1-11cb-47b6-9feb-790ecce8ec67",
   "metadata": {},
   "outputs": [],
   "source": [
    "# Count the number of duplicate ride IDs\n",
    "df.duplicated(['ride_id']).sum()"
   ]
  },
  {
   "cell_type": "markdown",
   "id": "8f6195a3-eaee-4474-9cf5-0503265838d7",
   "metadata": {},
   "source": [
    "# Converting columns to datetime"
   ]
  },
  {
   "cell_type": "code",
   "execution_count": null,
   "id": "9ecef22c-68db-4035-87d4-d04a6c9fa9e4",
   "metadata": {},
   "outputs": [],
   "source": [
    "# Convert the 'started_at' column to datetime format with mixed format\n",
    "df['new_started_at'] = pd.to_datetime(df['started_at'], format='mixed')"
   ]
  },
  {
   "cell_type": "code",
   "execution_count": null,
   "id": "678c43f4-eb4d-4aa3-84c3-4ab4b872a59f",
   "metadata": {},
   "outputs": [],
   "source": [
    "# Check if there are any missing values in the 'new_started_at' column\n",
    "df['new_started_at'].isnull().sum()"
   ]
  },
  {
   "cell_type": "code",
   "execution_count": null,
   "id": "200dbaab-27ed-4d5e-a843-b86337dac1ac",
   "metadata": {},
   "outputs": [],
   "source": [
    "# Convert the 'ended_at' column to datetime format with mixed format\n",
    "df['new_ended_at'] = pd.to_datetime(df['ended_at'], format='mixed').dt.floor('s')"
   ]
  },
  {
   "cell_type": "code",
   "execution_count": null,
   "id": "2e38e34b-dc81-4144-a841-1b3c4381802d",
   "metadata": {},
   "outputs": [],
   "source": [
    "# Check if there are any missing values in the 'new_ended_at' column\n",
    "df['new_ended_at'].isnull().sum()"
   ]
  },
  {
   "cell_type": "markdown",
   "id": "561dd39a-3e5d-484e-a7a0-ca7363f9bbf5",
   "metadata": {},
   "source": [
    "# Calculate the ride length"
   ]
  },
  {
   "cell_type": "code",
   "execution_count": null,
   "id": "a85e3b8f-290f-4176-8fc6-f611675f5639",
   "metadata": {},
   "outputs": [],
   "source": [
    "df['ride_length'] = df['new_ended_at']-df['new_started_at']\n",
    "df.head()"
   ]
  },
  {
   "cell_type": "code",
   "execution_count": null,
   "id": "744e9bff-0017-4af3-91e4-87a8c918eee5",
   "metadata": {},
   "outputs": [],
   "source": [
    "df['ride_length_sec'] = df['ride_length'].dt.total_seconds()\n",
    "df"
   ]
  },
  {
   "cell_type": "code",
   "execution_count": null,
   "id": "53483b48-e14e-48af-953c-817ea372bbad",
   "metadata": {},
   "outputs": [],
   "source": [
    "# Count the number of rows where the ride length is less than 60 seconds\n",
    "(df['ride_length_sec'] < 60).sum()"
   ]
  },
  {
   "cell_type": "code",
   "execution_count": null,
   "id": "5e648907-3045-4eb9-b925-519af68b85a9",
   "metadata": {},
   "outputs": [],
   "source": [
    "# Filter the dataframe to only include rows where the ride length is greater than or equal to 60 seconds\n",
    "df = df[df['ride_length_sec'] >= 60]\n",
    "df"
   ]
  },
  {
   "cell_type": "markdown",
   "id": "f3f28364-de27-4562-b9c2-b29e280aabc4",
   "metadata": {},
   "source": [
    "# Create a new column in the dataframe called 'day_of_week'"
   ]
  },
  {
   "cell_type": "code",
   "execution_count": null,
   "id": "c87ba7df-4dd2-45bf-880f-a9f896fe6c65",
   "metadata": {},
   "outputs": [],
   "source": [
    "df['day_of_week'] = df['new_started_at'].dt.day_name()\n"
   ]
  },
  {
   "cell_type": "markdown",
   "id": "b010e6be-e8ea-41f3-801a-cec8ee306f81",
   "metadata": {},
   "source": [
    "# Replacing columns"
   ]
  },
  {
   "cell_type": "code",
   "execution_count": null,
   "id": "9cde7f36-62fc-4e4b-8e53-735f9e9619ac",
   "metadata": {},
   "outputs": [],
   "source": [
    "df['started_at'] = df['new_started_at']\n",
    "df['ended_at'] = df['new_ended_at']"
   ]
  },
  {
   "cell_type": "markdown",
   "id": "cf509398-c864-4926-a651-fb34fc36a110",
   "metadata": {},
   "source": [
    "# Dropping unused columns"
   ]
  },
  {
   "cell_type": "code",
   "execution_count": null,
   "id": "8a9fb89a-6c0f-4908-8ad1-9cb6b3095b87",
   "metadata": {},
   "outputs": [],
   "source": [
    "df.drop('new_started_at', axis=1, inplace=True)\n",
    "df.drop('new_ended_at', axis=1, inplace=True)\n",
    "df.drop('ride_length', axis=1, inplace=True)"
   ]
  },
  {
   "cell_type": "markdown",
   "id": "cb607350-dcb4-484e-9630-fac61f0d2f53",
   "metadata": {},
   "source": [
    "# Saving to the file"
   ]
  },
  {
   "cell_type": "code",
   "execution_count": null,
   "id": "0b3d475b-db55-4f31-b5f2-a48ba2651f04",
   "metadata": {},
   "outputs": [],
   "source": [
    "df.to_csv('./data/full_data.csv', index=False)"
   ]
  }
 ],
 "metadata": {
  "kernelspec": {
   "display_name": "Python 3 (ipykernel)",
   "language": "python",
   "name": "python3"
  },
  "language_info": {
   "codemirror_mode": {
    "name": "ipython",
    "version": 3
   },
   "file_extension": ".py",
   "mimetype": "text/x-python",
   "name": "python",
   "nbconvert_exporter": "python",
   "pygments_lexer": "ipython3",
   "version": "3.12.7"
  }
 },
 "nbformat": 4,
 "nbformat_minor": 5
}
